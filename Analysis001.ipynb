{
 "cells": [
  {
   "cell_type": "code",
   "execution_count": 1,
   "metadata": {},
   "outputs": [
    {
     "ename": "ModuleNotFoundError",
     "evalue": "No module named 'textblob'",
     "output_type": "error",
     "traceback": [
      "\u001b[0;31m---------------------------------------------------------------------------\u001b[0m",
      "\u001b[0;31mModuleNotFoundError\u001b[0m                       Traceback (most recent call last)",
      "\u001b[0;32m<ipython-input-1-b1d53346b94c>\u001b[0m in \u001b[0;36m<module>\u001b[0;34m\u001b[0m\n\u001b[1;32m      9\u001b[0m \u001b[0;34m\u001b[0m\u001b[0m\n\u001b[1;32m     10\u001b[0m \u001b[0;31m# Import the libraries\u001b[0m\u001b[0;34m\u001b[0m\u001b[0;34m\u001b[0m\u001b[0;34m\u001b[0m\u001b[0m\n\u001b[0;32m---> 11\u001b[0;31m \u001b[0;32mfrom\u001b[0m \u001b[0mtextblob\u001b[0m \u001b[0;32mimport\u001b[0m \u001b[0mTextBlob\u001b[0m\u001b[0;34m\u001b[0m\u001b[0;34m\u001b[0m\u001b[0m\n\u001b[0m\u001b[1;32m     12\u001b[0m \u001b[0;32mimport\u001b[0m \u001b[0mnltk\u001b[0m\u001b[0;34m\u001b[0m\u001b[0;34m\u001b[0m\u001b[0m\n\u001b[1;32m     13\u001b[0m \u001b[0;32mfrom\u001b[0m \u001b[0mnewspaper\u001b[0m \u001b[0;32mimport\u001b[0m \u001b[0mArticle\u001b[0m\u001b[0;34m\u001b[0m\u001b[0;34m\u001b[0m\u001b[0m\n",
      "\u001b[0;31mModuleNotFoundError\u001b[0m: No module named 'textblob'"
     ]
    }
   ],
   "source": [
    "# Get the sentiment of articles from the internet\n",
    "# You may need to install CONSOLE the packages first.\n",
    "\n",
    "# pip install newspaper3k\n",
    "# pip install nltk\n",
    "# pip install textblob\n",
    "\n",
    "# Next we will import the libraries.\n",
    "\n",
    "# Import the libraries\n",
    "from textblob import TextBlob\n",
    "import nltk\n",
    "from newspaper import Article\n",
    "\n",
    "# Now we will add the URL of the website that contains the article / text that we want to scrape, then we will store it into a variable.\n",
    "\n",
    "# Get the article\n",
    "#url = 'https://everythingcomputerscience.com/'\n",
    "\n",
    "url = 'https://www.nytimes.com/2019/07/30/us/seesaws-border-wall.html'\n",
    "#url = 'https://www.nbcnews.com/news/us-news/california-professors-install-seesaws-along-u-s-mexico-border-wall-n1036056'\n",
    "#url = 'https://www.washingtonpost.com/arts-entertainment/2019/07/30/two-artists-built-seesaw-across-us-mexico-border-then-video-kids-playing-it-went-viral/?noredirect=on'\n",
    "#url = 'https://edition.cnn.com/2019/07/30/us/seesaws-border-wall-us-mexico-trnd/index.html'\n",
    "\n",
    "article = Article(url)\n",
    "\n",
    "# Do some NLP\n",
    "article.download() #Downloads the link’s HTML content\n",
    "article.parse() #Parse the article\n",
    "nltk.download('punkt')#1 time download of the sentence tokenizer\n",
    "article.nlp()#  Keyword extraction wrapper\n",
    "\n",
    "# Let’s print the text summary to see what this site/article is about.\n",
    "text = article.summary\n",
    "# print text\n",
    "print(text)\n",
    "\n",
    "#Now we will print the sentiment value of the summarized text, to see how the author of this site feels about the topic.\n",
    "\n",
    "obj = TextBlob(text)\n",
    "#returns the sentiment of text\n",
    "#by returning a value between -1.0 and 1.0\n",
    "sentiment = obj.sentiment.polarity\n",
    "print(sentiment)\n",
    "\n",
    "if sentiment == 0:\n",
    "  print('The text is neutral')\n",
    "elif sentiment > 0:\n",
    "  print('The text is positive')\n",
    "else:\n",
    "  print('The text is negative')"
   ]
  },
  {
   "cell_type": "code",
   "execution_count": null,
   "metadata": {},
   "outputs": [],
   "source": []
  }
 ],
 "metadata": {
  "kernelspec": {
   "display_name": "Python",
   "language": "python",
   "name": "conda-env-python-py"
  },
  "language_info": {
   "codemirror_mode": {
    "name": "ipython",
    "version": 3
   },
   "file_extension": ".py",
   "mimetype": "text/x-python",
   "name": "python",
   "nbconvert_exporter": "python",
   "pygments_lexer": "ipython3",
   "version": "3.6.7"
  }
 },
 "nbformat": 4,
 "nbformat_minor": 4
}
